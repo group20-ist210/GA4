{
  "nbformat": 4,
  "nbformat_minor": 0,
  "metadata": {
    "colab": {
      "name": "GroupAssignment4.ipynb",
      "provenance": [],
      "collapsed_sections": [],
      "include_colab_link": true
    },
    "kernelspec": {
      "name": "python3",
      "display_name": "Python 3"
    }
  },
  "cells": [
    {
      "cell_type": "markdown",
      "metadata": {
        "id": "view-in-github",
        "colab_type": "text"
      },
      "source": [
        "<a href=\"https://colab.research.google.com/github/group20-ist210/GA4/blob/master/GroupAssignment4.ipynb\" target=\"_parent\"><img src=\"https://colab.research.google.com/assets/colab-badge.svg\" alt=\"Open In Colab\"/></a>"
      ]
    },
    {
      "cell_type": "markdown",
      "metadata": {
        "id": "cGVNp7-FEKDi",
        "colab_type": "text"
      },
      "source": [
        "# **Group 20: On Time Airlines**"
      ]
    },
    {
      "cell_type": "code",
      "metadata": {
        "id": "RCOP2mIhDtQt",
        "colab_type": "code",
        "colab": {}
      },
      "source": [
        "import sqlite3"
      ],
      "execution_count": 0,
      "outputs": []
    },
    {
      "cell_type": "code",
      "metadata": {
        "id": "DTxXcImAsOcA",
        "colab_type": "code",
        "colab": {}
      },
      "source": [
        ""
      ],
      "execution_count": 0,
      "outputs": []
    },
    {
      "cell_type": "code",
      "metadata": {
        "id": "vlxWPfr0YZfN",
        "colab_type": "code",
        "colab": {}
      },
      "source": [
        "connectionToDatabase = sqlite3.connect('Airport_Data') \n",
        "cursor = connectionToDatabase.cursor()\n",
        "\n",
        "\n",
        "cursor.execute(\"drop table if EXISTS Delay_Time\")\n",
        "cursor.execute(\"drop table if EXISTS Gate_Type\")\n",
        "cursor.execute(\"drop table if EXISTS Flight_Type\")\n",
        "cursor.execute(\"drop table if EXISTS TICKET_Type\")\n",
        "connectionToDatabase.commit()"
      ],
      "execution_count": 0,
      "outputs": []
    },
    {
      "cell_type": "markdown",
      "metadata": {
        "id": "RUb-Aq6BGtjs",
        "colab_type": "text"
      },
      "source": [
        "INSERT: ER DIAGRAM HERE"
      ]
    },
    {
      "cell_type": "code",
      "metadata": {
        "id": "nAC5JGgzYdP7",
        "colab_type": "code",
        "colab": {}
      },
      "source": [
        "cursor.execute('''create table IF NOT EXISTS Delay_Time (DELAY_ID text PRIMARY KEY, original_time integer, reschedule_time integer, total_time_delayed integer, flight_number text)''')\n",
        "connectionToDatabase.commit()\n",
        "\n",
        "cursor.execute('''create table IF NOT EXISTS Gate_Type (GATE_ID text PRIMARY KEY, Domestic text, International text, Connecting text, flight_number text)''')\n",
        "connectionToDatabase.commit()\n",
        "\n",
        "cursor.execute('''create table IF NOT EXISTS Flight_Type (FLIGHT_ID text PRIMARY KEY, Private real, Large_Commercial real, Diplomat real, Small_Commercial real, flight_number text)''')\n",
        "connectionToDatabase.commit()\n",
        "\n",
        "cursor.execute('''create table IF NOT EXISTS TICKET_Type (TICKET_ID text PRIMARY KEY, Economy_class real, first_class real, Business_class real, flight_number text)''')\n",
        "connectionToDatabase.commit()"
      ],
      "execution_count": 0,
      "outputs": []
    },
    {
      "cell_type": "code",
      "metadata": {
        "id": "tki6l6ynYfIU",
        "colab_type": "code",
        "colab": {}
      },
      "source": [
        "# uploading data to Delay_time \n",
        "\n",
        "cursor.execute('''INSERT INTO Delay_Time values ('A', 0500, 0630, 90 , 'QC390');''')\n",
        "connectionToDatabase.commit()\n",
        "cursor.execute('''INSERT INTO Delay_Time values (\"B\", 0900, 1200, 180 , \"ZB420\");''')\n",
        "connectionToDatabase.commit()\n",
        "cursor.execute('''INSERT INTO Delay_Time values (\"C\", 2100, 0010, 190 , \"WC982\");''')\n",
        "connectionToDatabase.commit()\n",
        "cursor.execute('''INSERT INTO Delay_Time values (\"D\", 1520, 1840, 200 , \"AE333\");''')\n",
        "connectionToDatabase.commit()"
      ],
      "execution_count": 0,
      "outputs": []
    },
    {
      "cell_type": "code",
      "metadata": {
        "id": "ZIAjT-zIYisa",
        "colab_type": "code",
        "colab": {}
      },
      "source": [
        "# uploading data to Gate_Type \n",
        "\n",
        "cursor.execute('''INSERT INTO Gate_Type values ('A', \"YES\", \"NO\", \"NO\" , 'QC390');''')\n",
        "connectionToDatabase.commit()\n",
        "cursor.execute('''INSERT INTO Gate_Type values (\"B\", \"NO\", \"YES\", \"NO\" , \"ZB420\");''')\n",
        "connectionToDatabase.commit()\n",
        "cursor.execute('''INSERT INTO Gate_Type values (\"C\", \"NO\", \"NO\", \"YES\" , \"WC982\");''')\n",
        "connectionToDatabase.commit()\n",
        "cursor.execute('''INSERT INTO Gate_Type values (\"D\", \"YES\", \"NO\", \"YES\" , \"AE333\");''')\n",
        "connectionToDatabase.commit()"
      ],
      "execution_count": 0,
      "outputs": []
    },
    {
      "cell_type": "code",
      "metadata": {
        "id": "Wjx2AWUFYk88",
        "colab_type": "code",
        "colab": {}
      },
      "source": [
        "# uploading data to Flight_Type \n",
        "\n",
        "cursor.execute('''INSERT INTO Flight_Type values ('A', \"YES\", \"NO\", \"NO\" ,\"NO\", 'QC390');''')\n",
        "connectionToDatabase.commit()\n",
        "cursor.execute('''INSERT INTO Flight_Type values (\"B\", \"NO\", \"YES\", \"NO\" ,\"NO\", \"ZB420\");''')\n",
        "connectionToDatabase.commit()\n",
        "cursor.execute('''INSERT INTO Flight_Type values (\"C\", \"NO\", \"NO\", \"YES\" , \"NO\", \"WC982\");''')\n",
        "connectionToDatabase.commit()\n",
        "cursor.execute('''INSERT INTO Flight_Type values (\"D\",  \"NO\", \"NO\",  \"NO\" ,\"YES\", \"AE333\");''')\n",
        "connectionToDatabase.commit()"
      ],
      "execution_count": 0,
      "outputs": []
    },
    {
      "cell_type": "code",
      "metadata": {
        "id": "F4HGwatRYnJ4",
        "colab_type": "code",
        "colab": {}
      },
      "source": [
        "# uploading data to TICKET_Type \n",
        "\n",
        "cursor.execute('''INSERT INTO TICKET_Type values ('A', \"YES\", \"NO\", \"NO\" , 'QC390');''')\n",
        "connectionToDatabase.commit()\n",
        "cursor.execute('''INSERT INTO TICKET_Type values (\"B\", \"NO\", \"YES\", \"NO\" , \"ZB420\");''')\n",
        "connectionToDatabase.commit()\n",
        "cursor.execute('''INSERT INTO TICKET_Type values (\"C\", \"NO\", \"NO\", \"YES\" , \"WC982\");''')\n",
        "connectionToDatabase.commit()\n",
        "cursor.execute('''INSERT INTO TICKET_Type values (\"D\", \"YES\", \"NO\", \"NO\" , \"AE333\");''')\n",
        "connectionToDatabase.commit()"
      ],
      "execution_count": 0,
      "outputs": []
    },
    {
      "cell_type": "code",
      "metadata": {
        "id": "X2TUcLqgYo-t",
        "colab_type": "code",
        "outputId": "68d18665-df90-4ea6-f223-54cf02a5506d",
        "colab": {
          "base_uri": "https://localhost:8080/",
          "height": 85
        }
      },
      "source": [
        "# to view all tables \n",
        "cursor.execute('''select * from Delay_Time;''')\n",
        "for i in cursor.fetchall():\n",
        "    print(i)"
      ],
      "execution_count": 0,
      "outputs": [
        {
          "output_type": "stream",
          "text": [
            "('A', 500, 630, 90, 'QC390')\n",
            "('B', 900, 1200, 180, 'ZB420')\n",
            "('C', 2100, 10, 190, 'WC982')\n",
            "('D', 1520, 1840, 200, 'AE333')\n"
          ],
          "name": "stdout"
        }
      ]
    },
    {
      "cell_type": "code",
      "metadata": {
        "id": "RwJaY3NcYrjA",
        "colab_type": "code",
        "outputId": "7844bf72-d395-47db-952b-b434017ddc24",
        "colab": {
          "base_uri": "https://localhost:8080/",
          "height": 85
        }
      },
      "source": [
        "cursor.execute('''select * from Gate_Type;''')\n",
        "for i in cursor.fetchall():\n",
        "    print(i)"
      ],
      "execution_count": 0,
      "outputs": [
        {
          "output_type": "stream",
          "text": [
            "('A', 'YES', 'NO', 'NO', 'QC390')\n",
            "('B', 'NO', 'YES', 'NO', 'ZB420')\n",
            "('C', 'NO', 'NO', 'YES', 'WC982')\n",
            "('D', 'YES', 'NO', 'YES', 'AE333')\n"
          ],
          "name": "stdout"
        }
      ]
    },
    {
      "cell_type": "code",
      "metadata": {
        "id": "PQiSnbjEYta3",
        "colab_type": "code",
        "outputId": "1c32a138-4353-4dcd-c2c4-d1279b8bc9d0",
        "colab": {
          "base_uri": "https://localhost:8080/",
          "height": 85
        }
      },
      "source": [
        "cursor.execute('''select * from Flight_Type;''')\n",
        "for i in cursor.fetchall():\n",
        "    print(i)"
      ],
      "execution_count": 0,
      "outputs": [
        {
          "output_type": "stream",
          "text": [
            "('A', 'YES', 'NO', 'NO', 'NO', 'QC390')\n",
            "('B', 'NO', 'YES', 'NO', 'NO', 'ZB420')\n",
            "('C', 'NO', 'NO', 'YES', 'NO', 'WC982')\n",
            "('D', 'NO', 'NO', 'NO', 'YES', 'AE333')\n"
          ],
          "name": "stdout"
        }
      ]
    },
    {
      "cell_type": "code",
      "metadata": {
        "id": "V5OQieWVYvYy",
        "colab_type": "code",
        "outputId": "f268c54e-1592-4f1c-ab32-6725585c7f2d",
        "colab": {
          "base_uri": "https://localhost:8080/",
          "height": 85
        }
      },
      "source": [
        "cursor.execute('''select * from TICKET_Type;''')\n",
        "for i in cursor.fetchall():\n",
        "    print(i)"
      ],
      "execution_count": 0,
      "outputs": [
        {
          "output_type": "stream",
          "text": [
            "('A', 'YES', 'NO', 'NO', 'QC390')\n",
            "('B', 'NO', 'YES', 'NO', 'ZB420')\n",
            "('C', 'NO', 'NO', 'YES', 'WC982')\n",
            "('D', 'YES', 'NO', 'NO', 'AE333')\n"
          ],
          "name": "stdout"
        }
      ]
    },
    {
      "cell_type": "markdown",
      "metadata": {
        "id": "cMcZeR21e3m0",
        "colab_type": "text"
      },
      "source": [
        "**Question 1:** What was the original scheduled time for each delay and how long was said delay?"
      ]
    },
    {
      "cell_type": "code",
      "metadata": {
        "id": "YMgpYrqgHDcV",
        "colab_type": "code",
        "outputId": "3957bdff-577e-4cd4-e6b8-48ce379b2b11",
        "colab": {
          "base_uri": "https://localhost:8080/",
          "height": 85
        }
      },
      "source": [
        "cursor.execute('''select original_time, total_time_delayed from Delay_Time ''')\n",
        "for i in cursor.fetchall():\n",
        "    print(i)"
      ],
      "execution_count": 0,
      "outputs": [
        {
          "output_type": "stream",
          "text": [
            "(500, 90)\n",
            "(900, 180)\n",
            "(2100, 190)\n",
            "(1520, 200)\n"
          ],
          "name": "stdout"
        }
      ]
    },
    {
      "cell_type": "markdown",
      "metadata": {
        "id": "FZFQ0ODefMJb",
        "colab_type": "text"
      },
      "source": [
        "This question is important because being able to see the original scheduled time for the flights that were delayed can tell us if there is a relationship with delays and when a flight is scheduled. If the results reveal that delays occur more in the morning or the total time delayed is more severe in the afternoon, than this can be used to help narrow down what the cause of the delay was or how to prevent delays in the future."
      ]
    },
    {
      "cell_type": "markdown",
      "metadata": {
        "id": "Pp3wTxV9fThn",
        "colab_type": "text"
      },
      "source": [
        "**Question 2:** What is the Gate Type information for flights starting with those that have the largest total delay time down to those with the smallest total delay time?"
      ]
    },
    {
      "cell_type": "code",
      "metadata": {
        "id": "EmwcW2MN6KEQ",
        "colab_type": "code",
        "outputId": "ae319e41-29ee-4a06-f02f-6c764148423f",
        "colab": {
          "base_uri": "https://localhost:8080/",
          "height": 85
        }
      },
      "source": [
        "cursor.execute('''select * from Delay_Time d LEFT JOIN Gate_Type g on d.DELAY_ID=g.GATE_ID ORDER BY d.Total_Time_Delayed DESC ''')\n",
        "for i in cursor.fetchall():\n",
        "    print(i)"
      ],
      "execution_count": 0,
      "outputs": [
        {
          "output_type": "stream",
          "text": [
            "('D', 1520, 1840, 200, 'AE333', 'D', 'YES', 'NO', 'YES', 'AE333')\n",
            "('C', 2100, 10, 190, 'WC982', 'C', 'NO', 'NO', 'YES', 'WC982')\n",
            "('B', 900, 1200, 180, 'ZB420', 'B', 'NO', 'YES', 'NO', 'ZB420')\n",
            "('A', 500, 630, 90, 'QC390', 'A', 'YES', 'NO', 'NO', 'QC390')\n"
          ],
          "name": "stdout"
        }
      ]
    },
    {
      "cell_type": "markdown",
      "metadata": {
        "id": "Cw5toN0uferb",
        "colab_type": "text"
      },
      "source": [
        "Accessing this information, you will be able to see all of the information including the Gate Type and Delay Time, ordered from the flight with the largest delay time to the one with the smallest delay time. Being able to compare the details between flights based off of total delay time will provide the opportunity to see if aspects like whether the flight being domestic, international, or connecting has a significant relationship with longer delay times. Having this information can give the airport an idea on where to focus their abilities in order to reduce delays, especially long delays, from occuring.\n"
      ]
    },
    {
      "cell_type": "markdown",
      "metadata": {
        "id": "jWtHvNxNfh8v",
        "colab_type": "text"
      },
      "source": [
        "**Question 3:**  What was the average delay time for all of the flights that were delayed?"
      ]
    },
    {
      "cell_type": "code",
      "metadata": {
        "id": "ezU3ppx_B6o3",
        "colab_type": "code",
        "outputId": "9fcbe6ae-6a43-4dea-df81-cc5230f451ea",
        "colab": {
          "base_uri": "https://localhost:8080/",
          "height": 34
        }
      },
      "source": [
        "cursor.execute('''select AVG(total_time_delayed) from Delay_Time ''')\n",
        "for i in cursor.fetchall():\n",
        "    print(i)"
      ],
      "execution_count": 0,
      "outputs": [
        {
          "output_type": "stream",
          "text": [
            "(165.0,)\n"
          ],
          "name": "stdout"
        }
      ]
    },
    {
      "cell_type": "markdown",
      "metadata": {
        "id": "oSaJ5IhnfnEr",
        "colab_type": "text"
      },
      "source": [
        "This question is important because knowing the average time of delay at the airport will provide a better prediction to tell passengers on how long they should expect the flight to be delayed. If you don’t tell a passenger on how long they should expect the delay to last, or tell them a timeframe and then the delay goes on longer than the predicted timeframe, they could get irritated, complain to the airport, or relay this experience to others, possibly hurting the business for the airport. With knowing the average total time of delay, the airport can use this time as a basis for what to tell passengers on how long the average delay is so the passenger has some idea on what to expect.\n"
      ]
    }
  ]
}